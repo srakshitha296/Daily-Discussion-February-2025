{
 "cells": [
  {
   "cell_type": "code",
   "execution_count": 18,
   "id": "bfe1dc0f-7e68-4815-b8da-ed6b815367c8",
   "metadata": {},
   "outputs": [],
   "source": [
    "class Addition():\n",
    "    def __init__(self, a):\n",
    "        self.a = a\n",
    "    def __add__(self, other):\n",
    "        return self.a+other.a"
   ]
  },
  {
   "cell_type": "code",
   "execution_count": 19,
   "id": "23df855e-87f2-4d70-a299-09a66bb2206f",
   "metadata": {},
   "outputs": [
    {
     "name": "stdout",
     "output_type": "stream",
     "text": [
      "hibye\n"
     ]
    }
   ],
   "source": [
    "s1='hi'\n",
    "s2='bye'\n",
    "s3=10\n",
    "s4=40\n",
    "a=Addition(s1)\n",
    "b= Addition(s2)\n",
    "print(a+b)"
   ]
  },
  {
   "cell_type": "markdown",
   "id": "ebdb9f07-97ed-43ce-8d73-6b1feb26b252",
   "metadata": {},
   "source": [
    "Create a program where a base class defines an abstract method and derived classes implement it differently"
   ]
  },
  {
   "cell_type": "code",
   "execution_count": 50,
   "id": "d05c9351-a230-4976-acc4-8adf3ec85d94",
   "metadata": {},
   "outputs": [],
   "source": [
    "from abc import ABC, abstractmethod\n",
    "class Animal(ABC):\n",
    "    @abstractmethod\n",
    "    def display(ABC):\n",
    "        pass\n",
    "\n",
    "class Dog(Animal):\n",
    "    def display(self):\n",
    "        print(\"Dog\")\n",
    "\n",
    "class Cat(Animal):\n",
    "    def display(self):\n",
    "        print(\"Cat\")"
   ]
  },
  {
   "cell_type": "code",
   "execution_count": 51,
   "id": "9091b8c1-7a25-459b-8776-19bbe5e2f690",
   "metadata": {},
   "outputs": [],
   "source": [
    "d = Dog()\n"
   ]
  },
  {
   "cell_type": "code",
   "execution_count": 52,
   "id": "0d891471-dd90-40cf-9c6c-8e366d6ebeaa",
   "metadata": {},
   "outputs": [
    {
     "name": "stdout",
     "output_type": "stream",
     "text": [
      "Cat\n"
     ]
    }
   ],
   "source": [
    "c = Cat()\n",
    "c.display()"
   ]
  },
  {
   "cell_type": "markdown",
   "id": "138c32f3-a9bd-4751-a4b1-d2f6d235b72b",
   "metadata": {},
   "source": [
    "Create an abstract class Shape with abstract methods for calculating perimeter and area."
   ]
  },
  {
   "cell_type": "code",
   "execution_count": 66,
   "id": "f9478d0f-2fe6-49ee-82ec-f1edf61d0164",
   "metadata": {},
   "outputs": [],
   "source": [
    "from math import pi\n",
    "class Shape():\n",
    "    def perimeter(self):\n",
    "        pass\n",
    "    def area(self):\n",
    "        pass \n",
    "class Rectangle(Shape):\n",
    "    def __init__(self,l, b):\n",
    "        self.l = l\n",
    "        self.b = b\n",
    "    def perimeter(self):\n",
    "        print(2*(self.l+self.b))\n",
    "    def area(self):\n",
    "        print(self.l*self.b)\n",
    "\n",
    "class Circle(Shape):\n",
    "    def __init__(self, r):\n",
    "        self.r = r\n",
    "    def area(self):\n",
    "        print(pi*self.r*self.r)\n",
    "    def perimeter(self):\n",
    "        print(2*pi*self.r)\n"
   ]
  },
  {
   "cell_type": "code",
   "execution_count": 67,
   "id": "0ebd0c23-b6d5-4a6f-9f9b-46d82184716e",
   "metadata": {},
   "outputs": [
    {
     "name": "stdout",
     "output_type": "stream",
     "text": [
      "10\n"
     ]
    }
   ],
   "source": [
    "r = Rectangle(2,3)\n",
    "r.perimeter()"
   ]
  },
  {
   "cell_type": "code",
   "execution_count": 68,
   "id": "28556904-e581-4a0e-b085-c376e1439f5c",
   "metadata": {},
   "outputs": [
    {
     "name": "stdout",
     "output_type": "stream",
     "text": [
      "6\n"
     ]
    }
   ],
   "source": [
    "r.area()"
   ]
  },
  {
   "cell_type": "code",
   "execution_count": 69,
   "id": "74257936-19e4-47da-8efa-038b1975da90",
   "metadata": {},
   "outputs": [
    {
     "name": "stdout",
     "output_type": "stream",
     "text": [
      "62.83185307179586\n"
     ]
    }
   ],
   "source": [
    "c=Circle(10)\n",
    "c.perimeter()"
   ]
  },
  {
   "cell_type": "code",
   "execution_count": 70,
   "id": "ad0bd6ec-1654-48cf-a055-8530c1ed205f",
   "metadata": {},
   "outputs": [
    {
     "name": "stdout",
     "output_type": "stream",
     "text": [
      "314.1592653589793\n"
     ]
    }
   ],
   "source": [
    "c.area()"
   ]
  },
  {
   "cell_type": "markdown",
   "id": "3e1f253d-be44-4871-ac77-b32d521b6c67",
   "metadata": {},
   "source": [
    "COMPOSITION"
   ]
  },
  {
   "cell_type": "code",
   "execution_count": 5,
   "id": "64dbc260",
   "metadata": {},
   "outputs": [
    {
     "name": "stdout",
     "output_type": "stream",
     "text": [
      "Applicant Name: Ram\n",
      "Licence Number :123\n",
      "\n",
      "Applicant Name: Sam\n",
      "Licence Number :124\n",
      "\n"
     ]
    }
   ],
   "source": [
    "class Licence:\n",
    "    def __init__(self, lic_num):\n",
    "        self.lic_number = lic_num\n",
    "\n",
    "class Approval:\n",
    "    def __init__(self, name, lic_number):\n",
    "        self.name = name\n",
    "        self.licence = Licence(lic_number)\n",
    "        \n",
    "    def __str__(self):\n",
    "        return f\"Applicant Name: {self.name}\\nLicence Number :{self.licence.lic_number}\\n\"\n",
    "\n",
    "applicant1 = Approval('Ram', 123)\n",
    "applicant2 = Approval('Sam', 124)\n",
    "print(applicant1)\n",
    "print(applicant2)"
   ]
  },
  {
   "cell_type": "code",
   "execution_count": null,
   "id": "4099d739",
   "metadata": {},
   "outputs": [],
   "source": []
  }
 ],
 "metadata": {
  "kernelspec": {
   "display_name": "Python 3",
   "language": "python",
   "name": "python3"
  },
  "language_info": {
   "codemirror_mode": {
    "name": "ipython",
    "version": 3
   },
   "file_extension": ".py",
   "mimetype": "text/x-python",
   "name": "python",
   "nbconvert_exporter": "python",
   "pygments_lexer": "ipython3",
   "version": "3.11.4"
  }
 },
 "nbformat": 4,
 "nbformat_minor": 5
}
