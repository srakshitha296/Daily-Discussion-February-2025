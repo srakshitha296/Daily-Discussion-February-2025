{
 "cells": [
  {
   "cell_type": "markdown",
   "id": "3010abb2-24b1-4a90-bd49-73bee905cd6d",
   "metadata": {},
   "source": [
    "Remove vowels from a string"
   ]
  },
  {
   "cell_type": "code",
   "execution_count": 3,
   "id": "1219dcac-ca54-43d0-af17-eb6e81661711",
   "metadata": {},
   "outputs": [
    {
     "name": "stdout",
     "output_type": "stream",
     "text": [
      "BCDFGHJKLMNP\n"
     ]
    }
   ],
   "source": [
    "vowels=\"AEIOUaeiou\"\n",
    "st = 'ABCDEFGHIJKLMNOP'\n",
    "result = \"\"\n",
    "for ele in st:\n",
    "    if ele not in vowels:\n",
    "        result+=ele\n",
    "print(result)"
   ]
  },
  {
   "cell_type": "markdown",
   "id": "2bbb9662-88df-42bd-b20c-2271d63bff1f",
   "metadata": {},
   "source": [
    "Check if a number is a power of two."
   ]
  },
  {
   "cell_type": "code",
   "execution_count": 1,
   "id": "270ac2a5-268e-47e5-90f4-ac5289ac31b3",
   "metadata": {},
   "outputs": [
    {
     "name": "stdout",
     "output_type": "stream",
     "text": [
      "32 is a power of two.\n"
     ]
    }
   ],
   "source": [
    "def is_power_of_two(n):\n",
    "    if n <= 0:\n",
    "        return False\n",
    "    return (n & (n - 1)) == 0\n",
    "\n",
    "# Example Usage\n",
    "number = 32\n",
    "if is_power_of_two(number):\n",
    "    print(f\"{number} is a power of two.\")\n",
    "else:\n",
    "    print(f\"{number} is not a power of two.\")"
   ]
  },
  {
   "cell_type": "markdown",
   "id": "3ab440dd-6d98-42be-b356-60e4f01f5b0a",
   "metadata": {},
   "source": [
    "Generate a list of prime numbers up to n"
   ]
  },
  {
   "cell_type": "code",
   "execution_count": 3,
   "id": "b141948b-a0c0-4e11-8bb1-b412c852a200",
   "metadata": {},
   "outputs": [
    {
     "name": "stdout",
     "output_type": "stream",
     "text": [
      "[2, 3, 5, 7, 11, 13, 17, 19]\n"
     ]
    }
   ],
   "source": [
    "prime=[]\n",
    "count = 0\n",
    "for num in range(2,20):\n",
    "    for i in range(1,num+1):\n",
    "        if num%i==0:\n",
    "            count+=1\n",
    "    if count<=2:\n",
    "        prime.append(num)\n",
    "    count=0\n",
    "print(prime)     "
   ]
  },
  {
   "cell_type": "markdown",
   "id": "c7e033b4-13d5-414b-a70a-4c0add28ae15",
   "metadata": {},
   "source": [
    "Generate a random password\n",
    " \n",
    "\n",
    " "
   ]
  },
  {
   "cell_type": "code",
   "execution_count": null,
   "id": "941c00a4-50ec-4988-993a-bea2576783ac",
   "metadata": {},
   "outputs": [],
   "source": []
  }
 ],
 "metadata": {
  "kernelspec": {
   "display_name": "Python 3",
   "language": "python",
   "name": "python3"
  },
  "language_info": {
   "codemirror_mode": {
    "name": "ipython",
    "version": 3
   },
   "file_extension": ".py",
   "mimetype": "text/x-python",
   "name": "python",
   "nbconvert_exporter": "python",
   "pygments_lexer": "ipython3",
   "version": "3.11.4"
  }
 },
 "nbformat": 4,
 "nbformat_minor": 5
}
