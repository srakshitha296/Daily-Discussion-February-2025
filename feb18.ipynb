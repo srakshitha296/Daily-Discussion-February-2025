{
 "cells": [
  {
   "cell_type": "code",
   "execution_count": 1,
   "id": "fda2e5d7-c7fb-4950-8273-ea57bab2cc65",
   "metadata": {},
   "outputs": [
    {
     "data": {
      "text/plain": [
       "['__class__',\n",
       " '__class_getitem__',\n",
       " '__contains__',\n",
       " '__delattr__',\n",
       " '__delitem__',\n",
       " '__dir__',\n",
       " '__doc__',\n",
       " '__eq__',\n",
       " '__format__',\n",
       " '__ge__',\n",
       " '__getattribute__',\n",
       " '__getitem__',\n",
       " '__getstate__',\n",
       " '__gt__',\n",
       " '__hash__',\n",
       " '__init__',\n",
       " '__init_subclass__',\n",
       " '__ior__',\n",
       " '__iter__',\n",
       " '__le__',\n",
       " '__len__',\n",
       " '__lt__',\n",
       " '__ne__',\n",
       " '__new__',\n",
       " '__or__',\n",
       " '__reduce__',\n",
       " '__reduce_ex__',\n",
       " '__repr__',\n",
       " '__reversed__',\n",
       " '__ror__',\n",
       " '__setattr__',\n",
       " '__setitem__',\n",
       " '__sizeof__',\n",
       " '__str__',\n",
       " '__subclasshook__',\n",
       " 'clear',\n",
       " 'copy',\n",
       " 'fromkeys',\n",
       " 'get',\n",
       " 'items',\n",
       " 'keys',\n",
       " 'pop',\n",
       " 'popitem',\n",
       " 'setdefault',\n",
       " 'update',\n",
       " 'values']"
      ]
     },
     "execution_count": 1,
     "metadata": {},
     "output_type": "execute_result"
    }
   ],
   "source": [
    "dir(dict)"
   ]
  },
  {
   "cell_type": "code",
   "execution_count": 2,
   "id": "34a49a7c-bf65-4c07-8f94-c4b6a874975e",
   "metadata": {},
   "outputs": [],
   "source": [
    "d={'k1':1,'k2':2}"
   ]
  },
  {
   "cell_type": "code",
   "execution_count": 3,
   "id": "4fe70514-3ebf-48f0-b837-7dd828beabcc",
   "metadata": {},
   "outputs": [
    {
     "data": {
      "text/plain": [
       "dict_values([1, 2])"
      ]
     },
     "execution_count": 3,
     "metadata": {},
     "output_type": "execute_result"
    }
   ],
   "source": [
    "d.values()"
   ]
  },
  {
   "cell_type": "code",
   "execution_count": 4,
   "id": "e9670705-2fba-4994-bdfb-78a290557bd7",
   "metadata": {},
   "outputs": [
    {
     "data": {
      "text/plain": [
       "dict_keys(['k1', 'k2'])"
      ]
     },
     "execution_count": 4,
     "metadata": {},
     "output_type": "execute_result"
    }
   ],
   "source": [
    "d.keys()"
   ]
  },
  {
   "cell_type": "code",
   "execution_count": 5,
   "id": "dc7bfdbb-5a41-4482-9b6e-27df369392ea",
   "metadata": {},
   "outputs": [
    {
     "data": {
      "text/plain": [
       "{'k1': 1, 'k2': 2}"
      ]
     },
     "execution_count": 5,
     "metadata": {},
     "output_type": "execute_result"
    }
   ],
   "source": [
    "e=d.copy()\n",
    "e"
   ]
  },
  {
   "cell_type": "code",
   "execution_count": 6,
   "id": "ac0c3a3b-8eb0-49e1-be81-0878942a21ca",
   "metadata": {},
   "outputs": [
    {
     "data": {
      "text/plain": [
       "1"
      ]
     },
     "execution_count": 6,
     "metadata": {},
     "output_type": "execute_result"
    }
   ],
   "source": [
    "d.pop('k1')"
   ]
  },
  {
   "cell_type": "code",
   "execution_count": 38,
   "id": "16ee628c-68af-4bcc-9e8e-5786645e2343",
   "metadata": {},
   "outputs": [
    {
     "data": {
      "text/plain": [
       "('k2', 2)"
      ]
     },
     "execution_count": 38,
     "metadata": {},
     "output_type": "execute_result"
    }
   ],
   "source": [
    "d.popitem()"
   ]
  },
  {
   "cell_type": "markdown",
   "id": "1181b654-0418-448d-8734-05151adbd1c8",
   "metadata": {},
   "source": [
    "#### 1. Write a function to find the key that have the maximum value in a dictionary"
   ]
  },
  {
   "cell_type": "code",
   "execution_count": 8,
   "id": "0215b217-9a9e-4d5a-8f3c-a2ba278b4b36",
   "metadata": {},
   "outputs": [
    {
     "data": {
      "text/plain": [
       "'c'"
      ]
     },
     "execution_count": 8,
     "metadata": {},
     "output_type": "execute_result"
    }
   ],
   "source": [
    "d={'b':1,'a':2,'c':3}\n",
    "maximum=max(d, key=d.get)\n",
    "maximum"
   ]
  },
  {
   "cell_type": "markdown",
   "id": "551c5fe5-ad1b-4024-bcf7-49656dbd2b4a",
   "metadata": {},
   "source": [
    "#### 2. Sort a dictionary by its keys"
   ]
  },
  {
   "cell_type": "code",
   "execution_count": 13,
   "id": "c263da79-790b-48d7-add5-946e5301d5a8",
   "metadata": {},
   "outputs": [
    {
     "data": {
      "text/plain": [
       "{'a': 2, 'b': 1, 'c': 3}"
      ]
     },
     "execution_count": 13,
     "metadata": {},
     "output_type": "execute_result"
    }
   ],
   "source": [
    "d={'b':1,'a':2,'c':3}\n",
    "def sorting(d):\n",
    "    return dict(sorted(d.items()))\n",
    "sorting(d)"
   ]
  },
  {
   "cell_type": "markdown",
   "id": "303aaf4a-0b55-4cd6-a826-7f26ab0d38fe",
   "metadata": {},
   "source": [
    "#### 3. Write a program to check if two dictionaries are identical"
   ]
  },
  {
   "cell_type": "code",
   "execution_count": 16,
   "id": "93251bf0-30a3-41f1-b41e-c187b486812c",
   "metadata": {},
   "outputs": [],
   "source": [
    "d={'b':1,'a':2,'c':3}\n",
    "d2={'b':1,'a':2,'c':3}\n",
    "def func1(d,d2):\n",
    "    if d==d2:\n",
    "        return \"Equal\"\n",
    "    else:\n",
    "        return \"Not equal\""
   ]
  },
  {
   "cell_type": "code",
   "execution_count": 17,
   "id": "b953d609-6565-43b7-ae53-a14a7fbec7a2",
   "metadata": {},
   "outputs": [
    {
     "data": {
      "text/plain": [
       "'Equal'"
      ]
     },
     "execution_count": 17,
     "metadata": {},
     "output_type": "execute_result"
    }
   ],
   "source": [
    "func1(d,d2)"
   ]
  },
  {
   "cell_type": "markdown",
   "id": "1edcfd7e-4c70-4eff-975f-6b507bfbb919",
   "metadata": {},
   "source": [
    "#### 4.Write a program to find all keys that map to a specific value in a dictionary"
   ]
  },
  {
   "cell_type": "code",
   "execution_count": 35,
   "id": "bed011f6-57b8-4193-b37e-d748f4a257d4",
   "metadata": {},
   "outputs": [
    {
     "data": {
      "text/plain": [
       "['a', 'c']"
      ]
     },
     "execution_count": 35,
     "metadata": {},
     "output_type": "execute_result"
    }
   ],
   "source": [
    "d = {'a': 10, 'b': 20, 'c': 10, 'd': 30, 'e': 20}\n",
    "target = 10\n",
    "\n",
    "def find(d, target):\n",
    "    return [k for k,v in d.items() if v==target]\n",
    "\n",
    "find(d, target)"
   ]
  },
  {
   "cell_type": "markdown",
   "id": "e9e8eebf-ebeb-4fff-bce0-e8996bc1842d",
   "metadata": {},
   "source": [
    "#### 5. Create a program to merge two dictionaries and sum values of common keys"
   ]
  },
  {
   "cell_type": "code",
   "execution_count": 33,
   "id": "fa67ed8e-1a4a-4484-8fd6-d4a280e92ba4",
   "metadata": {},
   "outputs": [
    {
     "data": {
      "text/plain": [
       "{'b': 2, 'a': 4, 'c': 7, 'e': 10, 'f': 5}"
      ]
     },
     "execution_count": 33,
     "metadata": {},
     "output_type": "execute_result"
    }
   ],
   "source": [
    "d1={'b':1,'a':2,'c':3, 'e':10}\n",
    "d2={'b':1,'a':2,'c':4, 'f':5}\n",
    "def sum_dict(d1, d2):\n",
    "    result = d1.copy()\n",
    "    for key, value in d2.items():\n",
    "        result[key] = result.get(key, 0)+value\n",
    "    return  result\n",
    "sum_dict(d1,d2)"
   ]
  },
  {
   "cell_type": "markdown",
   "id": "a7a6ad84-f95d-4d8f-9857-2fae25946a8f",
   "metadata": {},
   "source": [
    "#### 6. Write a program to calculate the factorial of a number"
   ]
  },
  {
   "cell_type": "code",
   "execution_count": 102,
   "id": "b0a1b1cd-0429-4abb-8777-17c1188431bf",
   "metadata": {},
   "outputs": [
    {
     "data": {
      "text/plain": [
       "120"
      ]
     },
     "execution_count": 102,
     "metadata": {},
     "output_type": "execute_result"
    }
   ],
   "source": [
    "def fact(n):\n",
    "    fact = 1\n",
    "    for i in range(1,n+1):\n",
    "        fact =fact* i\n",
    "    return fact\n",
    "\n",
    "fact(5)\n"
   ]
  },
  {
   "cell_type": "code",
   "execution_count": 18,
   "id": "99eae178-a49a-4c61-b1ab-4e7c19b34ee5",
   "metadata": {},
   "outputs": [
    {
     "data": {
      "text/plain": [
       "120"
      ]
     },
     "execution_count": 18,
     "metadata": {},
     "output_type": "execute_result"
    }
   ],
   "source": [
    "def fact(n):\n",
    "    if n==0 or n==1:\n",
    "        return 1\n",
    "    return  n*fact(n-1)\n",
    "fact(5)"
   ]
  },
  {
   "cell_type": "code",
   "execution_count": null,
   "id": "c8cf3ed4-93e0-4814-8846-e0877e67aaea",
   "metadata": {},
   "outputs": [],
   "source": []
  }
 ],
 "metadata": {
  "kernelspec": {
   "display_name": "Python 3 (ipykernel)",
   "language": "python",
   "name": "python3"
  },
  "language_info": {
   "codemirror_mode": {
    "name": "ipython",
    "version": 3
   },
   "file_extension": ".py",
   "mimetype": "text/x-python",
   "name": "python",
   "nbconvert_exporter": "python",
   "pygments_lexer": "ipython3",
   "version": "3.11.4"
  }
 },
 "nbformat": 4,
 "nbformat_minor": 5
}
