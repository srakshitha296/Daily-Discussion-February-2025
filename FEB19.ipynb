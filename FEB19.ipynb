{
 "cells": [
  {
   "cell_type": "markdown",
   "id": "249f5485-a597-40e3-aa31-9a2494c49e48",
   "metadata": {},
   "source": [
    "#### 1. Write a Program to check if given number is strong number or not.  \n",
    "- Given number is strong when, if its equal to sum of their factorials, Ex: (145 = 1! + 4!+ 5!) ,"
   ]
  },
  {
   "cell_type": "code",
   "execution_count": 40,
   "id": "b7c57c3e-6142-4227-8903-343a49429a18",
   "metadata": {},
   "outputs": [],
   "source": [
    "def factorial(n):\n",
    "    fact = 1\n",
    "    for i in range(1,n+1):\n",
    "        fact = fact*i\n",
    "    return fact"
   ]
  },
  {
   "cell_type": "code",
   "execution_count": 58,
   "id": "35203cd6-e989-491e-9210-69cb08293c01",
   "metadata": {},
   "outputs": [],
   "source": [
    "def strong_num(num):\n",
    "    e=str(num)\n",
    "    result = 0\n",
    "    for ele in  range(0, len(e)):\n",
    "        result += factorial(int(e[ele]))\n",
    "    if result == num:\n",
    "        return True\n",
    "    else:\n",
    "        return False"
   ]
  },
  {
   "cell_type": "code",
   "execution_count": 59,
   "id": "695f3489-efa2-4247-a1fe-bd307b27e13e",
   "metadata": {},
   "outputs": [
    {
     "data": {
      "text/plain": [
       "True"
      ]
     },
     "execution_count": 59,
     "metadata": {},
     "output_type": "execute_result"
    }
   ],
   "source": [
    "strong_num(145)"
   ]
  },
  {
   "cell_type": "markdown",
   "id": "4ed7ac6d-abbb-4baa-8e69-1d3d04fc87c7",
   "metadata": {},
   "source": [
    "#### 2. Write a Python program to Convert two lists into a dictionary\n",
    "- Sample Output:\n",
    "keys = [\"One\", \"Two\", \"Three\", \"Four\", \"Five\"]\n",
    "values = [1, 2, 3, 4, 5]\n",
    "Convert Two List to Dict = {'One' : 1, 'Two' : 2, 'Three' : 3, 'Four' : 4, 'Five' : 5}"
   ]
  },
  {
   "cell_type": "code",
   "execution_count": 56,
   "id": "ff58a05b-8456-46f3-b73a-b1f6145441b5",
   "metadata": {},
   "outputs": [],
   "source": [
    "d = {key:value for key,value in zip([\"k1\", \"k2\", \"k3\", \"k4\", \"k5\"],[1, 2, 3, 4, 5])}"
   ]
  },
  {
   "cell_type": "code",
   "execution_count": 57,
   "id": "55a268b5-6cc0-435d-9405-983ae84bc35e",
   "metadata": {},
   "outputs": [
    {
     "data": {
      "text/plain": [
       "{'k1': 1, 'k2': 2, 'k3': 3, 'k4': 4, 'k5': 5}"
      ]
     },
     "execution_count": 57,
     "metadata": {},
     "output_type": "execute_result"
    }
   ],
   "source": [
    "d"
   ]
  }
 ],
 "metadata": {
  "kernelspec": {
   "display_name": "Python 3 (ipykernel)",
   "language": "python",
   "name": "python3"
  },
  "language_info": {
   "codemirror_mode": {
    "name": "ipython",
    "version": 3
   },
   "file_extension": ".py",
   "mimetype": "text/x-python",
   "name": "python",
   "nbconvert_exporter": "python",
   "pygments_lexer": "ipython3",
   "version": "3.11.4"
  }
 },
 "nbformat": 4,
 "nbformat_minor": 5
}
