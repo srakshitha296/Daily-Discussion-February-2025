{
 "cells": [
  {
   "cell_type": "code",
   "execution_count": 40,
   "id": "b7c57c3e-6142-4227-8903-343a49429a18",
   "metadata": {},
   "outputs": [],
   "source": [
    "def factorial(n):\n",
    "    fact = 1\n",
    "    for i in range(1,n+1):\n",
    "        fact = fact*i\n",
    "    return fact"
   ]
  },
  {
   "cell_type": "code",
   "execution_count": 58,
   "id": "35203cd6-e989-491e-9210-69cb08293c01",
   "metadata": {},
   "outputs": [],
   "source": [
    "def strong_num(num):\n",
    "    e=str(num)\n",
    "    result = 0\n",
    "    for ele in  range(0, len(e)):\n",
    "        result += factorial(int(e[ele]))\n",
    "    if result == num:\n",
    "        return True\n",
    "    else:\n",
    "        return False"
   ]
  },
  {
   "cell_type": "code",
   "execution_count": 59,
   "id": "695f3489-efa2-4247-a1fe-bd307b27e13e",
   "metadata": {},
   "outputs": [
    {
     "data": {
      "text/plain": [
       "True"
      ]
     },
     "execution_count": 59,
     "metadata": {},
     "output_type": "execute_result"
    }
   ],
   "source": [
    "strong_num(145)"
   ]
  },
  {
   "cell_type": "code",
   "execution_count": 56,
   "id": "ff58a05b-8456-46f3-b73a-b1f6145441b5",
   "metadata": {},
   "outputs": [],
   "source": [
    "d = {key:value for key,value in zip([\"k1\", \"k2\", \"k3\", \"k4\", \"k5\"],[1, 2, 3, 4, 5])}"
   ]
  },
  {
   "cell_type": "code",
   "execution_count": 57,
   "id": "55a268b5-6cc0-435d-9405-983ae84bc35e",
   "metadata": {},
   "outputs": [
    {
     "data": {
      "text/plain": [
       "{'k1': 1, 'k2': 2, 'k3': 3, 'k4': 4, 'k5': 5}"
      ]
     },
     "execution_count": 57,
     "metadata": {},
     "output_type": "execute_result"
    }
   ],
   "source": [
    "d"
   ]
  },
  {
   "cell_type": "markdown",
   "id": "3c7d93a7-abce-44cf-bce5-95816f48fc6e",
   "metadata": {},
   "source": [
    "feb 20"
   ]
  },
  {
   "cell_type": "code",
   "execution_count": 9,
   "id": "7f79fa1f-c3c6-490f-8a3d-5fc7391c5555",
   "metadata": {},
   "outputs": [
    {
     "name": "stdout",
     "output_type": "stream",
     "text": [
      "Object is deleted\n"
     ]
    },
    {
     "data": {
      "text/plain": [
       "15.0"
      ]
     },
     "execution_count": 9,
     "metadata": {},
     "output_type": "execute_result"
    }
   ],
   "source": [
    "class Student:\n",
    "    def __init__(self, m1, m2):\n",
    "        self.m1 = m1\n",
    "        self.m2 = m2\n",
    "        \n",
    "    def calc_avg(self):\n",
    "        return (self.m1+self.m2)/2\n",
    "        \n",
    "    def __del__(self):\n",
    "        print(\"Object is deleted\")\n",
    "        \n",
    "s1 = Student(10, 20)\n",
    "s2 = Student(20, 60)\n",
    "s1.calc_avg()\n"
   ]
  },
  {
   "cell_type": "code",
   "execution_count": 10,
   "id": "6d48143e-c8e5-4083-b85d-163ac14449df",
   "metadata": {},
   "outputs": [
    {
     "data": {
      "text/plain": [
       "40.0"
      ]
     },
     "execution_count": 10,
     "metadata": {},
     "output_type": "execute_result"
    }
   ],
   "source": [
    "s2.calc_avg()"
   ]
  },
  {
   "cell_type": "code",
   "execution_count": 11,
   "id": "aa6d6fe7-688b-40f2-a52f-ae674d860799",
   "metadata": {},
   "outputs": [
    {
     "name": "stdout",
     "output_type": "stream",
     "text": [
      "Object is deleted\n"
     ]
    }
   ],
   "source": [
    "del s1"
   ]
  },
  {
   "cell_type": "code",
   "execution_count": 12,
   "id": "9c510429-4f83-415b-a345-607263d41d2f",
   "metadata": {},
   "outputs": [
    {
     "ename": "NameError",
     "evalue": "name 's1' is not defined",
     "output_type": "error",
     "traceback": [
      "\u001b[1;31m---------------------------------------------------------------------------\u001b[0m",
      "\u001b[1;31mNameError\u001b[0m                                 Traceback (most recent call last)",
      "Cell \u001b[1;32mIn[12], line 1\u001b[0m\n\u001b[1;32m----> 1\u001b[0m \u001b[43ms1\u001b[49m\n",
      "\u001b[1;31mNameError\u001b[0m: name 's1' is not defined"
     ]
    }
   ],
   "source": [
    "s1"
   ]
  },
  {
   "cell_type": "code",
   "execution_count": 13,
   "id": "09710c6e-451b-427e-9ef4-4d1702cc9fe8",
   "metadata": {},
   "outputs": [],
   "source": [
    "class Vehicle():\n",
    "    def __init__(self):\n",
    "        print(\"Base Class\")"
   ]
  },
  {
   "cell_type": "code",
   "execution_count": 14,
   "id": "d9c10b8c-f9ba-4a2b-aef1-6d4c76837555",
   "metadata": {},
   "outputs": [],
   "source": [
    "class Car(Vehicle):\n",
    "    def __init__(self):\n",
    "        print(\"Car\")"
   ]
  },
  {
   "cell_type": "code",
   "execution_count": 15,
   "id": "f35f3671-607e-4214-8f68-fdb31781338b",
   "metadata": {},
   "outputs": [],
   "source": [
    "class Bike(Vehicle):\n",
    "    def __init__(self):\n",
    "        print(\"Bike\")"
   ]
  },
  {
   "cell_type": "code",
   "execution_count": 16,
   "id": "39249fb5-69b2-486b-a849-c84886534c3b",
   "metadata": {},
   "outputs": [
    {
     "name": "stdout",
     "output_type": "stream",
     "text": [
      "Car\n"
     ]
    }
   ],
   "source": [
    "c = Car()"
   ]
  },
  {
   "cell_type": "code",
   "execution_count": 17,
   "id": "7c06ceba-3dea-4340-8c91-dcac53a523bf",
   "metadata": {},
   "outputs": [
    {
     "name": "stdout",
     "output_type": "stream",
     "text": [
      "Bike\n"
     ]
    }
   ],
   "source": [
    "b= Bike()"
   ]
  },
  {
   "cell_type": "code",
   "execution_count": 18,
   "id": "293b53b4-5e91-4ac5-a65d-49b2bc8c98f6",
   "metadata": {},
   "outputs": [
    {
     "data": {
      "text/plain": [
       "3"
      ]
     },
     "execution_count": 18,
     "metadata": {},
     "output_type": "execute_result"
    }
   ],
   "source": [
    "class A:\n",
    "    c = 0\n",
    "    \n",
    "    def __init__(self):\n",
    "        A.c += 1\n",
    "        \n",
    "    @classmethod\n",
    "    def counting(cls):\n",
    "        return cls.c\n",
    "    \n",
    "a=A()  \n",
    "b=A()  \n",
    "b=A()  \n",
    "A.c\n",
    "A.counting()"
   ]
  },
  {
   "cell_type": "code",
   "execution_count": 19,
   "id": "a7848399-6e6d-4baa-991f-84511a6b7416",
   "metadata": {},
   "outputs": [
    {
     "data": {
      "text/plain": [
       "3"
      ]
     },
     "execution_count": 19,
     "metadata": {},
     "output_type": "execute_result"
    }
   ],
   "source": [
    "a.counting()"
   ]
  },
  {
   "cell_type": "code",
   "execution_count": 22,
   "id": "2db9e723-6421-4254-9b59-4085a0d0b7ba",
   "metadata": {},
   "outputs": [],
   "source": [
    "class C_exception():\n",
    "    def ex(self):\n",
    "        try:\n",
    "            val = int(input(\"Enter a number\"))\n",
    "        except:\n",
    "            print(\"Invalid Input\")\n",
    "    "
   ]
  },
  {
   "cell_type": "code",
   "execution_count": 23,
   "id": "3a7d9c45-d2f7-4a49-9826-0388b7d2702b",
   "metadata": {},
   "outputs": [
    {
     "name": "stdin",
     "output_type": "stream",
     "text": [
      "Enter a number fgh\n"
     ]
    },
    {
     "name": "stdout",
     "output_type": "stream",
     "text": [
      "Invalid Input\n"
     ]
    }
   ],
   "source": [
    "a = C_exception()\n",
    "a.ex()"
   ]
  },
  {
   "cell_type": "code",
   "execution_count": 20,
   "id": "f906458a-4018-4398-bae9-6fc8c0d9af7b",
   "metadata": {},
   "outputs": [
    {
     "name": "stdin",
     "output_type": "stream",
     "text": [
      "Enter a number rty\n"
     ]
    },
    {
     "ename": "ValueError",
     "evalue": "invalid literal for int() with base 10: 'rty'",
     "output_type": "error",
     "traceback": [
      "\u001b[1;31m---------------------------------------------------------------------------\u001b[0m",
      "\u001b[1;31mValueError\u001b[0m                                Traceback (most recent call last)",
      "Cell \u001b[1;32mIn[20], line 1\u001b[0m\n\u001b[1;32m----> 1\u001b[0m val \u001b[38;5;241m=\u001b[39m \u001b[38;5;28;43mint\u001b[39;49m\u001b[43m(\u001b[49m\u001b[38;5;28;43minput\u001b[39;49m\u001b[43m(\u001b[49m\u001b[38;5;124;43m\"\u001b[39;49m\u001b[38;5;124;43mEnter a number\u001b[39;49m\u001b[38;5;124;43m\"\u001b[39;49m\u001b[43m)\u001b[49m\u001b[43m)\u001b[49m\n",
      "\u001b[1;31mValueError\u001b[0m: invalid literal for int() with base 10: 'rty'"
     ]
    }
   ],
   "source": [
    "val = int(input(\"Enter a number\"))"
   ]
  },
  {
   "cell_type": "code",
   "execution_count": null,
   "id": "17b8e1ca-68cb-41e2-90aa-7365affee4a4",
   "metadata": {},
   "outputs": [],
   "source": [
    "\n"
   ]
  },
  {
   "cell_type": "code",
   "execution_count": null,
   "id": "16d52943-beb7-4fd5-ae55-09c07cb60134",
   "metadata": {},
   "outputs": [],
   "source": []
  }
 ],
 "metadata": {
  "kernelspec": {
   "display_name": "Python 3 (ipykernel)",
   "language": "python",
   "name": "python3"
  },
  "language_info": {
   "codemirror_mode": {
    "name": "ipython",
    "version": 3
   },
   "file_extension": ".py",
   "mimetype": "text/x-python",
   "name": "python",
   "nbconvert_exporter": "python",
   "pygments_lexer": "ipython3",
   "version": "3.11.4"
  }
 },
 "nbformat": 4,
 "nbformat_minor": 5
}
