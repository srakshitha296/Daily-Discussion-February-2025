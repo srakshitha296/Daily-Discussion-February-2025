{
 "cells": [
  {
   "cell_type": "markdown",
   "id": "3ec5d978-7ed5-4eeb-a3dd-d2c1ddd1b7e5",
   "metadata": {},
   "source": [
    "#### 1. Implement a function to compute the nth Fibonacci number using dynamic programming.  \n",
    "Example - Fibonacci numbers are 1, 1, 2, 3, 5, 8, 13 …"
   ]
  },
  {
   "cell_type": "code",
   "execution_count": 1,
   "id": "8272a409-e11a-42fd-b85b-86f2a2655339",
   "metadata": {},
   "outputs": [
    {
     "name": "stdout",
     "output_type": "stream",
     "text": [
      "8\n"
     ]
    }
   ],
   "source": [
    "def dp_fib(n,memo):\n",
    "    if n<=1:\n",
    "        return 1\n",
    "    if memo[n] != -1:\n",
    "        return memo[n]\n",
    "    \n",
    "    memo[n] = dp_fib(n-1,memo) + dp_fib(n-2,memo)\n",
    "    return memo[n]\n",
    "\n",
    "def fibonacci(n):\n",
    "    memo  = [-1]*(n+1)\n",
    "    return dp_fib(n,memo)\n",
    "n=5\n",
    "print(fibonacci(n))"
   ]
  },
  {
   "cell_type": "markdown",
   "id": "0ef6b4b3-ed93-4657-ba1c-8d8d3ac28b13",
   "metadata": {},
   "source": [
    "#### 4. Find the longest common subsequence of two strings."
   ]
  },
  {
   "cell_type": "code",
   "execution_count": 24,
   "id": "2e722027-992b-40dc-9392-5476665fb976",
   "metadata": {},
   "outputs": [],
   "source": [
    "a = 'abcde'\n",
    "b='abc'\n",
    "s = list(a)\n",
    "t = list(b)\n",
    "def sub_string(s):\n",
    "    sub = []\n",
    "    for i in range(len(s)):\n",
    "        for j in range(i, len(s)):\n",
    "            #print(i,j)\n",
    "            sub.append(s[i:j+1])\n",
    "    return sub\n",
    "    \n",
    "sub1 = sub_string(s)\n",
    "sub2 = sub_string(t)"
   ]
  },
  {
   "cell_type": "code",
   "execution_count": 29,
   "id": "f2217087-7913-4dbc-92c7-c3684c670a24",
   "metadata": {},
   "outputs": [
    {
     "data": {
      "text/plain": [
       "[['a'], ['a', 'b'], ['a', 'b', 'c'], ['b'], ['b', 'c'], ['c']]"
      ]
     },
     "execution_count": 29,
     "metadata": {},
     "output_type": "execute_result"
    }
   ],
   "source": [
    "sub2"
   ]
  },
  {
   "cell_type": "code",
   "execution_count": 33,
   "id": "49734355-4bff-476e-94df-afab8cd7b45c",
   "metadata": {},
   "outputs": [
    {
     "name": "stdout",
     "output_type": "stream",
     "text": [
      "a\n",
      "ab\n",
      "abc\n",
      "b\n",
      "bc\n",
      "c\n"
     ]
    }
   ],
   "source": [
    "for ele in sub2:\n",
    "    s=\"\".join(ele)\n",
    "    print(s)"
   ]
  },
  {
   "cell_type": "code",
   "execution_count": null,
   "id": "1fa8a52f-27a9-45c3-b879-6632dd93d8b1",
   "metadata": {},
   "outputs": [],
   "source": []
  }
 ],
 "metadata": {
  "kernelspec": {
   "display_name": "Python 3",
   "language": "python",
   "name": "python3"
  },
  "language_info": {
   "codemirror_mode": {
    "name": "ipython",
    "version": 3
   },
   "file_extension": ".py",
   "mimetype": "text/x-python",
   "name": "python",
   "nbconvert_exporter": "python",
   "pygments_lexer": "ipython3",
   "version": "3.11.4"
  }
 },
 "nbformat": 4,
 "nbformat_minor": 5
}
