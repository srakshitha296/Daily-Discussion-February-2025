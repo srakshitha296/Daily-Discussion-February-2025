{
 "cells": [
  {
   "cell_type": "markdown",
   "id": "ba3c55a4-be13-4b19-9bd7-5c6c06bea9bd",
   "metadata": {},
   "source": [
    "#### 1. Create a function to merge two sorted lists of tuples into a single sorted list."
   ]
  },
  {
   "cell_type": "code",
   "execution_count": 2,
   "id": "2cffaa99-c557-4b45-a813-1d448cdb56aa",
   "metadata": {},
   "outputs": [],
   "source": [
    "t1=[(1,2),(3,4),(10,11)]\n",
    "t2=[(5,6),(7,8)]\n",
    "def conversion(t1, t2):\n",
    "    t3=t1+t2\n",
    "    l1=[]\n",
    "    for ele in t3:\n",
    "        l1 += list(ele)\n",
    "    l1.sort()\n",
    "    return l1"
   ]
  },
  {
   "cell_type": "code",
   "execution_count": 3,
   "id": "c82f0fde-9777-43f5-a098-935953c1b413",
   "metadata": {},
   "outputs": [
    {
     "data": {
      "text/plain": [
       "[1, 2, 3, 4, 5, 6, 7, 8, 10, 11]"
      ]
     },
     "execution_count": 3,
     "metadata": {},
     "output_type": "execute_result"
    }
   ],
   "source": [
    "conversion(t1, t2)"
   ]
  },
  {
   "cell_type": "markdown",
   "id": "cb08ad68-1785-428c-a298-a7fbb55d30b5",
   "metadata": {},
   "source": [
    "#### 2. Check if all elements in a tuple are the same"
   ]
  },
  {
   "cell_type": "code",
   "execution_count": 4,
   "id": "59a624f7-bde8-4534-8772-89c1c734b640",
   "metadata": {},
   "outputs": [
    {
     "name": "stdout",
     "output_type": "stream",
     "text": [
      "Not same\n"
     ]
    }
   ],
   "source": [
    "t1=(1,2,2,2,2)\n",
    "for ele in t1:\n",
    "    if t1.count(ele)==len(t1):\n",
    "        print('Same')\n",
    "        break\n",
    "    else:\n",
    "        print(\"Not same\")\n",
    "        break"
   ]
  },
  {
   "cell_type": "markdown",
   "id": "cd2643e7-705f-473a-8079-5deee17795ac",
   "metadata": {},
   "source": [
    "#### 4. Check if a tuple is a subset of another tuple"
   ]
  },
  {
   "cell_type": "code",
   "execution_count": 6,
   "id": "070f11e6-9a32-43f5-a0f5-ab7e228bc47f",
   "metadata": {},
   "outputs": [
    {
     "name": "stdout",
     "output_type": "stream",
     "text": [
      "Subset\n"
     ]
    }
   ],
   "source": [
    "t1 = (1,2,3,4,5)\n",
    "t2 = (2,3,4)\n",
    "s1=set(t1)\n",
    "s2=set(t2)\n",
    "if s1.intersection(s2) == s2:\n",
    "    print(\"Subset\")\n",
    "else:\n",
    "    print(\"Not a subset\")\n",
    "    "
   ]
  },
  {
   "cell_type": "code",
   "execution_count": 10,
   "id": "d1f64e98-ba55-455c-bbbd-19604249c1a5",
   "metadata": {},
   "outputs": [
    {
     "name": "stdout",
     "output_type": "stream",
     "text": [
      "Subset\n"
     ]
    }
   ],
   "source": [
    "t1 = (1,2,3,4,5)\n",
    "t2 = (2,3,4)\n",
    "s1=set(t1)\n",
    "s2=set(t2)\n",
    "if s2.issubset(s1):\n",
    "    print(\"Subset\")\n",
    "else:\n",
    "    print(\"Not a subset\")\n",
    "    "
   ]
  },
  {
   "cell_type": "markdown",
   "id": "23e1add0-06b5-4610-8bdb-8813ccb5bf81",
   "metadata": {},
   "source": [
    "#### 4. Write a program to count distinct elements in a list using sets."
   ]
  },
  {
   "cell_type": "code",
   "execution_count": 15,
   "id": "5bc8306f-06ab-4f7e-b7ed-05a974a1492f",
   "metadata": {},
   "outputs": [],
   "source": [
    "l1=[1,2,2,3,3,4,5,10,3,3,7]\n",
    "def count_distinct(l1):\n",
    "    l2=list(set(l1))\n",
    "    return len(l2)"
   ]
  },
  {
   "cell_type": "code",
   "execution_count": 16,
   "id": "7ed7d1f1-dbf8-435d-8773-75e98b837d85",
   "metadata": {},
   "outputs": [
    {
     "data": {
      "text/plain": [
       "7"
      ]
     },
     "execution_count": 16,
     "metadata": {},
     "output_type": "execute_result"
    }
   ],
   "source": [
    "count_distinct(l1)"
   ]
  },
  {
   "cell_type": "markdown",
   "id": "c9f1dd81-9283-4a65-a088-5f204fa33bc1",
   "metadata": {},
   "source": [
    "#### 5. Write a program to remove all elements from one set that are present in another set"
   ]
  },
  {
   "cell_type": "code",
   "execution_count": 19,
   "id": "d55407cf-cc8d-46a4-90a4-a49f2426dbb1",
   "metadata": {},
   "outputs": [
    {
     "data": {
      "text/plain": [
       "{1, 5}"
      ]
     },
     "execution_count": 19,
     "metadata": {},
     "output_type": "execute_result"
    }
   ],
   "source": [
    "s1={1,2,3,5}\n",
    "s2={2,3,4}\n",
    "s1-s2 "
   ]
  },
  {
   "cell_type": "markdown",
   "id": "22ab4d98-4c8e-4276-81ed-a81fba7e434c",
   "metadata": {},
   "source": [
    "#### 6. Write a function to find common elements in multiple sets"
   ]
  },
  {
   "cell_type": "code",
   "execution_count": 22,
   "id": "f75f720b-626e-4764-bac9-e9949d3fb053",
   "metadata": {},
   "outputs": [
    {
     "data": {
      "text/plain": [
       "{3, 4}"
      ]
     },
     "execution_count": 22,
     "metadata": {},
     "output_type": "execute_result"
    }
   ],
   "source": [
    "s1={1,2,3,4,6}\n",
    "s2={2,3,4,6,7}\n",
    "s3={3,4,5,1,7}\n",
    "def common(s1,s2,s3):\n",
    "    return s1.intersection(s2).intersection(s3)\n",
    "common(s1,s2,s3)"
   ]
  },
  {
   "cell_type": "markdown",
   "id": "aa09c2b6-78a2-47bb-8f16-9deb59d26d0e",
   "metadata": {},
   "source": [
    "#### 7. Write a function to check if two sets are equal"
   ]
  },
  {
   "cell_type": "code",
   "execution_count": 63,
   "id": "1e4d7af1-2157-44b7-995b-53d556b3523d",
   "metadata": {},
   "outputs": [
    {
     "name": "stdout",
     "output_type": "stream",
     "text": [
      "Different\n"
     ]
    }
   ],
   "source": [
    "s1={1,2,3,4}\n",
    "s2={1,2,3}\n",
    "if len(s1.intersection(s2))==len(s1)==len(s2):\n",
    "    print(\"Same\")\n",
    "else:\n",
    "    print(\"Different\")"
   ]
  },
  {
   "cell_type": "code",
   "execution_count": 23,
   "id": "355183cf-0997-4027-9dbd-8fe2f04180da",
   "metadata": {},
   "outputs": [
    {
     "name": "stdout",
     "output_type": "stream",
     "text": [
      "Different\n"
     ]
    }
   ],
   "source": [
    "if s1==s2:\n",
    "    print(\"Same\")\n",
    "else:\n",
    "    print(\"Different\")"
   ]
  }
 ],
 "metadata": {
  "kernelspec": {
   "display_name": "Python 3 (ipykernel)",
   "language": "python",
   "name": "python3"
  },
  "language_info": {
   "codemirror_mode": {
    "name": "ipython",
    "version": 3
   },
   "file_extension": ".py",
   "mimetype": "text/x-python",
   "name": "python",
   "nbconvert_exporter": "python",
   "pygments_lexer": "ipython3",
   "version": "3.11.4"
  }
 },
 "nbformat": 4,
 "nbformat_minor": 5
}
