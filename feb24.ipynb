{
 "cells": [
  {
   "cell_type": "markdown",
   "id": "d7c34dd8",
   "metadata": {},
   "source": [
    "#### 1. Rotate an array k times to the right."
   ]
  },
  {
   "cell_type": "code",
   "execution_count": 6,
   "id": "344eb457",
   "metadata": {},
   "outputs": [
    {
     "data": {
      "text/plain": [
       "[6, 1, 2, 3, 4, 5]"
      ]
     },
     "execution_count": 6,
     "metadata": {},
     "output_type": "execute_result"
    }
   ],
   "source": [
    "l=[1,2,3,4,5,6]\n",
    "k=1\n",
    "def rotate(l,k):\n",
    "    k %= len(l)\n",
    "    return l[-k:]+l[:-k]\n",
    "rotate(l, k)"
   ]
  },
  {
   "cell_type": "code",
   "execution_count": 7,
   "id": "a81aff88",
   "metadata": {},
   "outputs": [
    {
     "data": {
      "text/plain": [
       "[6, 1, 2, 3, 4, 5]"
      ]
     },
     "execution_count": 7,
     "metadata": {},
     "output_type": "execute_result"
    }
   ],
   "source": [
    "l=[1,2,3,4,5,6]\n",
    "k=7\n",
    "def rotate(l,k):\n",
    "    for i in range(k):\n",
    "        popped = l.pop()\n",
    "        l.insert(0,popped)\n",
    "    return l\n",
    "rotate(l, k)"
   ]
  },
  {
   "cell_type": "markdown",
   "id": "c08cff4d",
   "metadata": {},
   "source": [
    "#### 2. Find the longest palindromic substring in a string. Ex: i/p: dadleveleyeredividerrefer o/p: redivider"
   ]
  },
  {
   "cell_type": "code",
   "execution_count": 16,
   "id": "0f3e804c-17f4-469a-8cfd-e61a54e6c850",
   "metadata": {},
   "outputs": [
    {
     "data": {
      "text/plain": [
       "'redivider'"
      ]
     },
     "execution_count": 16,
     "metadata": {},
     "output_type": "execute_result"
    }
   ],
   "source": [
    "s=\"dadleveleyeredividerrefer\"\n",
    "def palindrome(s):\n",
    "    if s==s[::-1] and len(s)>1:\n",
    "        return s\n",
    "\n",
    "sub=''\n",
    "d={}\n",
    "for ele in s:\n",
    "    sub += ele\n",
    "    if sub==sub[::-1] and len(sub)>1:\n",
    "        d[sub]=len(sub)\n",
    "        sub=''\n",
    "        \n",
    "max(d, key=d.get)"
   ]
  }
 ],
 "metadata": {
  "kernelspec": {
   "display_name": "Python 3",
   "language": "python",
   "name": "python3"
  },
  "language_info": {
   "codemirror_mode": {
    "name": "ipython",
    "version": 3
   },
   "file_extension": ".py",
   "mimetype": "text/x-python",
   "name": "python",
   "nbconvert_exporter": "python",
   "pygments_lexer": "ipython3",
   "version": "3.11.4"
  }
 },
 "nbformat": 4,
 "nbformat_minor": 5
}
