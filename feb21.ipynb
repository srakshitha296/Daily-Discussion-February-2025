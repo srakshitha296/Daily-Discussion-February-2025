{
 "cells": [
  {
   "cell_type": "markdown",
   "id": "4f805404-573e-409d-b82e-5b949f241b25",
   "metadata": {},
   "source": [
    "#### 1. Write a program to reverse each word in a sentence while maintaining the word order"
   ]
  },
  {
   "cell_type": "code",
   "execution_count": 1,
   "id": "22c3cc06-cc67-4935-b223-8155e2e9c0e5",
   "metadata": {},
   "outputs": [
    {
     "name": "stdout",
     "output_type": "stream",
     "text": [
      "morning\n",
      "good\n",
      "Hello\n"
     ]
    }
   ],
   "source": [
    "s = \"Hello good morning\"\n",
    "l = s.split()\n",
    "rev = \"\"\n",
    "for ele in l[::-1]:\n",
    "    print(ele)"
   ]
  },
  {
   "cell_type": "code",
   "execution_count": 2,
   "id": "1de4c923-2115-45ff-9680-00a5106dc72c",
   "metadata": {},
   "outputs": [
    {
     "data": {
      "text/plain": [
       "'morning good Hello'"
      ]
     },
     "execution_count": 2,
     "metadata": {},
     "output_type": "execute_result"
    }
   ],
   "source": [
    "s = \"Hello good morning\"\n",
    "l = s.split()\n",
    "rev = []\n",
    "for ele in l[::-1]:\n",
    "    rev.append(ele)\n",
    "    \n",
    "\" \".join(rev)"
   ]
  },
  {
   "cell_type": "markdown",
   "id": "be4cd172-49cf-4cbc-9e7f-5f1e49a03f05",
   "metadata": {},
   "source": [
    "#### 2. Check if two strings are anagrams of each other.  Anagram example: 1) Earth & Heart   2) Night & Thing"
   ]
  },
  {
   "cell_type": "code",
   "execution_count": 3,
   "id": "d96ad674-2cc0-4e80-82b1-cb2a16704fd7",
   "metadata": {},
   "outputs": [],
   "source": [
    "w1 = 'Night'\n",
    "w2 = 'Things'\n",
    "def anagrams(w1, w2):\n",
    "    l1=list(w1.lower())\n",
    "    l2 = list(w2.lower())\n",
    "    l1.sort()\n",
    "    l2.sort()\n",
    "    if l1==l2:\n",
    "        print(\"Anagrams\")\n",
    "    else:\n",
    "        print(\"Not\")\n"
   ]
  },
  {
   "cell_type": "code",
   "execution_count": 4,
   "id": "2a485773-44ff-4d74-b202-08f172e90bb6",
   "metadata": {},
   "outputs": [
    {
     "name": "stdout",
     "output_type": "stream",
     "text": [
      "Not\n"
     ]
    }
   ],
   "source": [
    "anagrams(w1, w2)"
   ]
  },
  {
   "cell_type": "markdown",
   "id": "10c129a3-c2c2-440c-b66a-1781d535bb47",
   "metadata": {},
   "source": [
    "#### 3. Create a program to find all perfect numbers in a given range.\n",
    "##### Note: A perfect number is a positive integer that is equal to the sum of its proper divisors, or divisors excluding the number itself. Example-6: The sum of its proper divisors, 1, 2, and 3, is 6"
   ]
  },
  {
   "cell_type": "code",
   "execution_count": 2,
   "id": "3b3fb772-c6bf-4e91-acd3-6f1eea4d37e2",
   "metadata": {},
   "outputs": [
    {
     "name": "stdout",
     "output_type": "stream",
     "text": [
      "6\n",
      "28\n"
     ]
    }
   ],
   "source": [
    "n = 30\n",
    "def perfect(n):\n",
    "    l = []\n",
    "    sum = 0\n",
    "    for i in range(1, (n//2)+1):\n",
    "        if n%i == 0:\n",
    "            l.append(i)\n",
    "    for ele in l:\n",
    "        sum += ele\n",
    "    if sum == n:\n",
    "        return n\n",
    "            \n",
    "    \n",
    "for num in range (1, n+1):\n",
    "    if perfect(num):\n",
    "        print(num)\n",
    "perfect(n)"
   ]
  },
  {
   "cell_type": "markdown",
   "id": "42849cd0-5759-4c3f-a794-b02faa10cfed",
   "metadata": {},
   "source": [
    "#### 4. Write a program to group elements of a list based on their frequency Write a program to group elements of a list based on their frequency.\n",
    "- Ex: i/p: [ a, b, c, e, f, a, f, a, i, i ] ; o/p: [ [a], [f, i], [ b, c, e ] ]"
   ]
  },
  {
   "cell_type": "code",
   "execution_count": 10,
   "id": "4e06ce96-9bd8-4f6c-bcb7-f2ed34528fea",
   "metadata": {},
   "outputs": [
    {
     "data": {
      "text/plain": [
       "{3: ['a'], 1: ['b', 'c', 'e'], 2: ['f', 'i']}"
      ]
     },
     "execution_count": 10,
     "metadata": {},
     "output_type": "execute_result"
    }
   ],
   "source": [
    "l=['a', 'b', 'c', 'e', 'f', 'a', 'f', 'a', 'i', 'i'] \n",
    "d = {}\n",
    "for ele in l:\n",
    "    d[ele] = l.count(ele)\n",
    "res = {}\n",
    "for key,values in d.items():\n",
    "    if values not in res:\n",
    "        res[values] = []\n",
    "    res[values].append(key)\n",
    "    \n",
    "    \n"
   ]
  },
  {
   "cell_type": "code",
   "execution_count": 8,
   "id": "7b516fda-97e0-4455-9fc4-e8a09e108745",
   "metadata": {},
   "outputs": [
    {
     "name": "stdout",
     "output_type": "stream",
     "text": [
      "['a'] ['f', 'i'] ['b', 'c', 'e'] "
     ]
    }
   ],
   "source": [
    "l=['a', 'b', 'c', 'e', 'f', 'a', 'f', 'a', 'i', 'i'] \n",
    "freq = [[] for i in range(len(l)+1)]\n",
    "\n",
    "count = {}\n",
    "for ele in l:\n",
    "    count[ele]=count.get(ele, 0)+1\n",
    "\n",
    "for num, cnt in count.items():\n",
    "    freq[cnt].append(num)\n",
    "\n",
    "for ele in freq[::-1]:\n",
    "    if len(ele)>0:\n",
    "        print(ele, end=\" \")"
   ]
  },
  {
   "cell_type": "code",
   "execution_count": null,
   "id": "b0f2e7a9",
   "metadata": {},
   "outputs": [],
   "source": [
    "\n"
   ]
  }
 ],
 "metadata": {
  "kernelspec": {
   "display_name": "Python 3",
   "language": "python",
   "name": "python3"
  },
  "language_info": {
   "codemirror_mode": {
    "name": "ipython",
    "version": 3
   },
   "file_extension": ".py",
   "mimetype": "text/x-python",
   "name": "python",
   "nbconvert_exporter": "python",
   "pygments_lexer": "ipython3",
   "version": "3.11.4"
  }
 },
 "nbformat": 4,
 "nbformat_minor": 5
}
