{
 "cells": [
  {
   "cell_type": "markdown",
   "id": "91c7661f-ff8d-4145-84db-be38c0990072",
   "metadata": {},
   "source": [
    "#### 1. Implement a function to find the second-largest element in a list."
   ]
  },
  {
   "cell_type": "code",
   "execution_count": 20,
   "id": "bd26167f-9a57-4f69-b209-1773762541a6",
   "metadata": {},
   "outputs": [
    {
     "name": "stdout",
     "output_type": "stream",
     "text": [
      "6\n"
     ]
    }
   ],
   "source": [
    "l = [4,6,2,4,9]\n",
    "def secondl(l):\n",
    "    if len(l) < 2:\n",
    "        return None\n",
    "    sorted_list = sorted(set(l))\n",
    "    return sorted_list[-2] if len(sorted_list) > 1 else None\n",
    "print(secondl(l))"
   ]
  },
  {
   "cell_type": "code",
   "execution_count": 21,
   "id": "458e94f5-8866-4fde-9663-1d1bdf3d4366",
   "metadata": {},
   "outputs": [
    {
     "name": "stdout",
     "output_type": "stream",
     "text": [
      "[4, 6, 2, 9]\n"
     ]
    }
   ],
   "source": [
    "l = [4,6,2,4,9]\n",
    "def remove_duplicates_listcomp(lst):\n",
    "    seen = set()\n",
    "    return [x for x in lst if not (x in seen or seen.add(x))]\n",
    "\n",
    "print(remove_duplicates_listcomp(l)) "
   ]
  },
  {
   "cell_type": "code",
   "execution_count": 22,
   "id": "1e99b5c3-2544-4982-b622-4d45c6b075be",
   "metadata": {},
   "outputs": [
    {
     "data": {
      "text/plain": [
       "[4, 6, 2, 9]"
      ]
     },
     "execution_count": 22,
     "metadata": {},
     "output_type": "execute_result"
    }
   ],
   "source": [
    "l = [4,6,2,4,9]\n",
    "list(dict.fromkeys(l))"
   ]
  },
  {
   "cell_type": "markdown",
   "id": "a11233fe-af53-496d-b18a-0dcd220d7c2a",
   "metadata": {},
   "source": [
    "#### 2. Remove all duplicates from a list"
   ]
  },
  {
   "cell_type": "code",
   "execution_count": 23,
   "id": "32f631dd-e4e0-46a5-889d-b53aa51fffcf",
   "metadata": {},
   "outputs": [
    {
     "name": "stdout",
     "output_type": "stream",
     "text": [
      "{9, 2, 4, 6}\n"
     ]
    }
   ],
   "source": [
    "l=[4,6,2,4,9]\n",
    "print(set(l))"
   ]
  },
  {
   "cell_type": "code",
   "execution_count": null,
   "id": "ae59f540-8d28-400b-9d08-89b0a637f188",
   "metadata": {},
   "outputs": [
    {
     "name": "stdout",
     "output_type": "stream",
     "text": [
      "[dict_keys([1, 2, 3, 4])]\n"
     ]
    }
   ],
   "source": [
    "l = [1,1,2,3,4,4]\n",
    "dict = {}\n",
    "res=[]\n",
    "for ele in l:\n",
    "    dict[ele]=dict.get(ele,0)+1\n",
    "for i in dict:\n",
    "    dict[i]=1\n",
    "for ele in dict:\n",
    "    res.append(ele)\n",
    "print(res)\n"
   ]
  },
  {
   "cell_type": "markdown",
   "id": "7d8b6b4a-85b7-42ec-be21-3d60398d93f0",
   "metadata": {},
   "source": [
    "#### 3. Merge two lists into a single sorted list"
   ]
  },
  {
   "cell_type": "code",
   "execution_count": 27,
   "id": "2d192360-bc6d-4f10-a111-7260932e0539",
   "metadata": {},
   "outputs": [
    {
     "data": {
      "text/plain": [
       "[2, 3, 3, 4, 5, 5, 6, 9]"
      ]
     },
     "execution_count": 27,
     "metadata": {},
     "output_type": "execute_result"
    }
   ],
   "source": [
    "l1=[2,4,3,5]\n",
    "l2=[5,6,3,9]\n",
    "merged = l1+l2\n",
    "merged.sort()\n",
    "merged"
   ]
  },
  {
   "cell_type": "code",
   "execution_count": 28,
   "id": "8588b32b-1958-4495-acd3-7687b4d89364",
   "metadata": {},
   "outputs": [
    {
     "data": {
      "text/plain": [
       "[2, 3, 3, 4, 5, 5, 6, 9]"
      ]
     },
     "execution_count": 28,
     "metadata": {},
     "output_type": "execute_result"
    }
   ],
   "source": [
    "l1=[2,4,3,5]\n",
    "l2=[5,6,3,9]\n",
    "sorted(l1+l2)"
   ]
  },
  {
   "cell_type": "markdown",
   "id": "64ed5f3e-8904-4fff-a27a-9336d07899c5",
   "metadata": {},
   "source": [
    "#### 4. Write a function to find all subsets of a given list."
   ]
  },
  {
   "cell_type": "code",
   "execution_count": 30,
   "id": "f323c1bb-a903-44d1-93e5-68247e0dbd49",
   "metadata": {},
   "outputs": [
    {
     "data": {
      "text/plain": [
       "[1, 2, 3, [1, 2], [2, 3], [1, 2, 3]]"
      ]
     },
     "execution_count": 30,
     "metadata": {},
     "output_type": "execute_result"
    }
   ],
   "source": [
    "l=[1,2,3]\n",
    "length = len(l)\n",
    "d = []\n",
    "for i in range(length):\n",
    "    d.append(l[i])\n",
    "for j in range(i):\n",
    "    d.append([l[j],l[j+1]])\n",
    "for k in range(j):\n",
    "    d.append([l[k],l[k+1],l[k+2]])\n",
    "d"
   ]
  },
  {
   "cell_type": "code",
   "execution_count": 43,
   "id": "2cde0d65-ca72-4534-8532-2319e3b40ad1",
   "metadata": {},
   "outputs": [
    {
     "name": "stdout",
     "output_type": "stream",
     "text": [
      "[1, 2, 3]\n",
      "[1, 2]\n",
      "[1, 3]\n",
      "[1]\n",
      "[2, 3]\n",
      "[2]\n",
      "[3]\n",
      "[]\n"
     ]
    }
   ],
   "source": [
    "def find_subsets_recursive(lst, index=0, current_subset=[]):\n",
    "    if index == len(lst):\n",
    "        print(current_subset) \n",
    "        return\n",
    "   \n",
    "    find_subsets_recursive(lst, index + 1, current_subset + [lst[index]])\n",
    "    \n",
    "    find_subsets_recursive(lst, index + 1, current_subset)\n",
    "\n",
    "find_subsets_recursive([1, 2, 3])"
   ]
  },
  {
   "cell_type": "code",
   "execution_count": 5,
   "id": "70e01a60-4517-478c-a6a2-55c1f61a6f11",
   "metadata": {},
   "outputs": [
    {
     "name": "stdout",
     "output_type": "stream",
     "text": [
      "[[1], [1, 2], [1, 2, 3], [2], [2, 3], [3]]\n"
     ]
    }
   ],
   "source": [
    "l=[1,2,3]\n",
    "res=[]\n",
    "for i in range(len(l)):\n",
    "    for j in range(i,len(l)):\n",
    "        res.append(l[i:j+1])\n",
    "print(res)"
   ]
  }
 ],
 "metadata": {
  "kernelspec": {
   "display_name": "Python 3",
   "language": "python",
   "name": "python3"
  },
  "language_info": {
   "codemirror_mode": {
    "name": "ipython",
    "version": 3
   },
   "file_extension": ".py",
   "mimetype": "text/x-python",
   "name": "python",
   "nbconvert_exporter": "python",
   "pygments_lexer": "ipython3",
   "version": "3.11.4"
  }
 },
 "nbformat": 4,
 "nbformat_minor": 5
}
