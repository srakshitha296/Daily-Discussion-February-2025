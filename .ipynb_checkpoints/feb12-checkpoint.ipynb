{
 "cells": [
  {
   "cell_type": "code",
   "execution_count": 1,
   "id": "ff05d9be-0153-4235-afe3-ddf05578ed71",
   "metadata": {},
   "outputs": [],
   "source": [
    "name =\"Hello world\""
   ]
  },
  {
   "cell_type": "code",
   "execution_count": 2,
   "id": "dfb981d3-0e0e-4080-937b-20f07863b9c6",
   "metadata": {},
   "outputs": [
    {
     "name": "stdout",
     "output_type": "stream",
     "text": [
      "H\n"
     ]
    }
   ],
   "source": [
    "print(name[0])"
   ]
  },
  {
   "cell_type": "code",
   "execution_count": 3,
   "id": "4a1ae1f5-6bd6-4f70-b923-b78b0e5ddee0",
   "metadata": {},
   "outputs": [
    {
     "name": "stdout",
     "output_type": "stream",
     "text": [
      "d\n"
     ]
    }
   ],
   "source": [
    "print(name[-1])"
   ]
  },
  {
   "cell_type": "code",
   "execution_count": 4,
   "id": "67fd92d0-ea1d-4d48-b15d-962992060e67",
   "metadata": {},
   "outputs": [
    {
     "name": "stdout",
     "output_type": "stream",
     "text": [
      "llo wor\n"
     ]
    }
   ],
   "source": [
    "print(name[2:9:1])"
   ]
  },
  {
   "cell_type": "code",
   "execution_count": 5,
   "id": "7e9311b4-a1a6-48c6-b4d0-437c3448a971",
   "metadata": {},
   "outputs": [
    {
     "name": "stdout",
     "output_type": "stream",
     "text": [
      "dlrow olleH\n"
     ]
    }
   ],
   "source": [
    "print(name[::-1])"
   ]
  },
  {
   "cell_type": "code",
   "execution_count": 6,
   "id": "ff36878b-8a5d-4054-85f2-4d3f1aaef891",
   "metadata": {},
   "outputs": [
    {
     "name": "stdout",
     "output_type": "stream",
     "text": [
      "Hello world Python\n"
     ]
    }
   ],
   "source": [
    "print(name+\" Python\")"
   ]
  },
  {
   "cell_type": "code",
   "execution_count": 7,
   "id": "2f0d799f-564f-496a-bddc-bb92e46f519c",
   "metadata": {},
   "outputs": [
    {
     "name": "stdout",
     "output_type": "stream",
     "text": [
      "Good Morning\n"
     ]
    }
   ],
   "source": [
    "a=\"Good\"\n",
    "b=\"Morning\"\n",
    "print(a+\" \"+b)"
   ]
  },
  {
   "cell_type": "code",
   "execution_count": 8,
   "id": "7f5ae34e-9e9a-4227-9ce9-467d3a9642b9",
   "metadata": {},
   "outputs": [
    {
     "name": "stdout",
     "output_type": "stream",
     "text": [
      "GoodGoodGoodGoodGoodGood\n"
     ]
    }
   ],
   "source": [
    "print(a*6)"
   ]
  },
  {
   "cell_type": "code",
   "execution_count": 9,
   "id": "1f94c0de-122b-435b-939f-7650bc25f1cf",
   "metadata": {},
   "outputs": [
    {
     "name": "stdout",
     "output_type": "stream",
     "text": [
      "GOOD\n",
      "morning\n"
     ]
    }
   ],
   "source": [
    "print(a.upper())\n",
    "print(b.lower())"
   ]
  },
  {
   "cell_type": "code",
   "execution_count": 10,
   "id": "f4eabcf2-0510-45e5-8df4-5e57239ab1a9",
   "metadata": {},
   "outputs": [
    {
     "name": "stdout",
     "output_type": "stream",
     "text": [
      "['Hello', 'world']\n"
     ]
    }
   ],
   "source": [
    "print(name.split())"
   ]
  },
  {
   "cell_type": "code",
   "execution_count": 11,
   "id": "591f1502-76a1-47ae-a9c2-62c1b5f5008c",
   "metadata": {},
   "outputs": [
    {
     "name": "stdout",
     "output_type": "stream",
     "text": [
      "['Mor', 'i', 'g']\n"
     ]
    }
   ],
   "source": [
    "print(b.split('n'))"
   ]
  },
  {
   "cell_type": "code",
   "execution_count": 12,
   "id": "b8687b22-19eb-423e-a56d-b9326847169e",
   "metadata": {},
   "outputs": [
    {
     "name": "stdout",
     "output_type": "stream",
     "text": [
      "Good morning\n"
     ]
    }
   ],
   "source": [
    "print(\"Good {}\".format('morning'))"
   ]
  },
  {
   "cell_type": "code",
   "execution_count": 13,
   "id": "54caec60-7b20-4c65-8aa7-44803e4df160",
   "metadata": {},
   "outputs": [
    {
     "name": "stdout",
     "output_type": "stream",
     "text": [
      "Course consists of 5 modules and 6 quiz\n"
     ]
    }
   ],
   "source": [
    "print(\"Course consists of {mod} modules and {quiz} {event}\".format(mod=5,event='quiz',quiz=6))"
   ]
  },
  {
   "cell_type": "code",
   "execution_count": 14,
   "id": "eb92fe7e-b7b6-4913-8d5c-ef5ef95335f7",
   "metadata": {},
   "outputs": [
    {
     "name": "stdout",
     "output_type": "stream",
     "text": [
      "Good Morning\n"
     ]
    }
   ],
   "source": [
    "print(f\"Good {b}\")"
   ]
  },
  {
   "cell_type": "code",
   "execution_count": 15,
   "id": "6e0fa433-ac47-4e18-a352-8134d1b611f2",
   "metadata": {},
   "outputs": [
    {
     "name": "stdout",
     "output_type": "stream",
     "text": [
      "Good morning\n"
     ]
    }
   ],
   "source": [
    "print(\"Good {e}\".format(e='morning'))"
   ]
  },
  {
   "cell_type": "code",
   "execution_count": 16,
   "id": "dbb55b28-1240-4b59-98f5-072e5413a5c1",
   "metadata": {},
   "outputs": [
    {
     "name": "stdout",
     "output_type": "stream",
     "text": [
      "its 36.9\n"
     ]
    }
   ],
   "source": [
    "temp=36.85\n",
    "print(\"its {t:1.1f}\".format(t=temp))"
   ]
  },
  {
   "cell_type": "code",
   "execution_count": 17,
   "id": "f59141c3-80bc-456a-885e-cd26941402e8",
   "metadata": {},
   "outputs": [
    {
     "data": {
      "text/plain": [
       "['apple', 5, 2.6]"
      ]
     },
     "execution_count": 17,
     "metadata": {},
     "output_type": "execute_result"
    }
   ],
   "source": [
    "mylist = ['apple', 5, 2.6]\n",
    "mylist"
   ]
  },
  {
   "cell_type": "code",
   "execution_count": 18,
   "id": "c64b2237-9eeb-46ee-9b1b-391ba5e26946",
   "metadata": {},
   "outputs": [
    {
     "data": {
      "text/plain": [
       "['apple', 5, 2.6, 'banana']"
      ]
     },
     "execution_count": 18,
     "metadata": {},
     "output_type": "execute_result"
    }
   ],
   "source": [
    "mylist.append('banana')\n",
    "mylist"
   ]
  },
  {
   "cell_type": "code",
   "execution_count": 19,
   "id": "1d86a187-53da-4f82-bce7-153af5a525d8",
   "metadata": {},
   "outputs": [
    {
     "data": {
      "text/plain": [
       "['apple', 'Tom', 5, 2.6, 'banana']"
      ]
     },
     "execution_count": 19,
     "metadata": {},
     "output_type": "execute_result"
    }
   ],
   "source": [
    "mylist.insert(1,\"Tom\")\n",
    "mylist"
   ]
  },
  {
   "cell_type": "code",
   "execution_count": 20,
   "id": "3f81bb19-c370-41f9-b1fe-d97bfcc0901a",
   "metadata": {},
   "outputs": [],
   "source": [
    "mylist.append(\"Jerry\")"
   ]
  },
  {
   "cell_type": "code",
   "execution_count": 21,
   "id": "322d2df5-5f4f-47ed-8679-83aba1ae785b",
   "metadata": {},
   "outputs": [
    {
     "data": {
      "text/plain": [
       "['apple', 'Tom', 5, 2.6, 'banana', 'Jerry']"
      ]
     },
     "execution_count": 21,
     "metadata": {},
     "output_type": "execute_result"
    }
   ],
   "source": [
    "mylist"
   ]
  },
  {
   "cell_type": "code",
   "execution_count": 22,
   "id": "964c91d0-7f12-4fa3-b22d-1010b4ba5832",
   "metadata": {},
   "outputs": [
    {
     "data": {
      "text/plain": [
       "['apple', 'Tom', 5, 2.6, 'banana']"
      ]
     },
     "execution_count": 22,
     "metadata": {},
     "output_type": "execute_result"
    }
   ],
   "source": [
    "mylist.pop()\n",
    "mylist"
   ]
  },
  {
   "cell_type": "code",
   "execution_count": 23,
   "id": "bc7c5c68-8665-4a12-9c9e-cef41c1470d9",
   "metadata": {},
   "outputs": [
    {
     "data": {
      "text/plain": [
       "['apple', 'Tom', 2.6, 'banana']"
      ]
     },
     "execution_count": 23,
     "metadata": {},
     "output_type": "execute_result"
    }
   ],
   "source": [
    "mylist.pop(2)\n",
    "mylist"
   ]
  },
  {
   "cell_type": "code",
   "execution_count": 24,
   "id": "4f174e01-b722-41e4-87ea-be1c13522f05",
   "metadata": {},
   "outputs": [
    {
     "data": {
      "text/plain": [
       "[2, 5, 7, 7, 8, 14, 28, 32, 45, 47, 82]"
      ]
     },
     "execution_count": 24,
     "metadata": {},
     "output_type": "execute_result"
    }
   ],
   "source": [
    "numbers = [5,8,28,7,14,82,32,47,2,7,45]\n",
    "numbers.sort()\n",
    "numbers"
   ]
  },
  {
   "cell_type": "code",
   "execution_count": 25,
   "id": "cb21e252-73a6-429b-a1ad-5b3949482960",
   "metadata": {},
   "outputs": [
    {
     "data": {
      "text/plain": [
       "2"
      ]
     },
     "execution_count": 25,
     "metadata": {},
     "output_type": "execute_result"
    }
   ],
   "source": [
    "numbers.count(7)"
   ]
  },
  {
   "cell_type": "code",
   "execution_count": 26,
   "id": "bf4a79c4-4a2a-462a-94be-ff4e9d29bc08",
   "metadata": {},
   "outputs": [
    {
     "data": {
      "text/plain": [
       "['__add__',\n",
       " '__class__',\n",
       " '__class_getitem__',\n",
       " '__contains__',\n",
       " '__delattr__',\n",
       " '__delitem__',\n",
       " '__dir__',\n",
       " '__doc__',\n",
       " '__eq__',\n",
       " '__format__',\n",
       " '__ge__',\n",
       " '__getattribute__',\n",
       " '__getitem__',\n",
       " '__getstate__',\n",
       " '__gt__',\n",
       " '__hash__',\n",
       " '__iadd__',\n",
       " '__imul__',\n",
       " '__init__',\n",
       " '__init_subclass__',\n",
       " '__iter__',\n",
       " '__le__',\n",
       " '__len__',\n",
       " '__lt__',\n",
       " '__mul__',\n",
       " '__ne__',\n",
       " '__new__',\n",
       " '__reduce__',\n",
       " '__reduce_ex__',\n",
       " '__repr__',\n",
       " '__reversed__',\n",
       " '__rmul__',\n",
       " '__setattr__',\n",
       " '__setitem__',\n",
       " '__sizeof__',\n",
       " '__str__',\n",
       " '__subclasshook__',\n",
       " 'append',\n",
       " 'clear',\n",
       " 'copy',\n",
       " 'count',\n",
       " 'extend',\n",
       " 'index',\n",
       " 'insert',\n",
       " 'pop',\n",
       " 'remove',\n",
       " 'reverse',\n",
       " 'sort']"
      ]
     },
     "execution_count": 26,
     "metadata": {},
     "output_type": "execute_result"
    }
   ],
   "source": [
    "dir(list)"
   ]
  },
  {
   "cell_type": "code",
   "execution_count": 27,
   "id": "f295517d-2c91-4dca-b089-823013716762",
   "metadata": {},
   "outputs": [
    {
     "data": {
      "text/plain": [
       "[82, 47, 45, 32, 28, 14, 8, 7, 7, 5, 2]"
      ]
     },
     "execution_count": 27,
     "metadata": {},
     "output_type": "execute_result"
    }
   ],
   "source": [
    "numbers.reverse()\n",
    "numbers"
   ]
  },
  {
   "cell_type": "code",
   "execution_count": 28,
   "id": "4803fa12-9114-4c06-924f-2f578a82334c",
   "metadata": {},
   "outputs": [
    {
     "name": "stdout",
     "output_type": "stream",
     "text": [
      "[1, 2, 3, 4, 5, 6]\n"
     ]
    }
   ],
   "source": [
    "a=[1,2,3]\n",
    "b=[4,5,6]\n",
    "a.extend(b)\n",
    "print(a)"
   ]
  },
  {
   "cell_type": "code",
   "execution_count": 29,
   "id": "12ca94aa-9917-40fe-8547-eed53e3b20c2",
   "metadata": {},
   "outputs": [
    {
     "data": {
      "text/plain": [
       "[]"
      ]
     },
     "execution_count": 29,
     "metadata": {},
     "output_type": "execute_result"
    }
   ],
   "source": [
    "b.clear()\n",
    "b"
   ]
  },
  {
   "cell_type": "code",
   "execution_count": 34,
   "id": "571f4c20-5f9e-4db6-9c0d-44fdaa0c76b0",
   "metadata": {},
   "outputs": [
    {
     "data": {
      "text/plain": [
       "[1, 2, 3, 4, 5, 6]"
      ]
     },
     "execution_count": 34,
     "metadata": {},
     "output_type": "execute_result"
    }
   ],
   "source": [
    "b=a.copy()\n",
    "b"
   ]
  },
  {
   "cell_type": "markdown",
   "id": "0f8ad08b-4029-4d97-9f92-c3fc1cda1d84",
   "metadata": {},
   "source": [
    "Dictionary"
   ]
  },
  {
   "cell_type": "code",
   "execution_count": null,
   "id": "f30a257f-5d83-4933-ba9b-c651a4e1d3c1",
   "metadata": {},
   "outputs": [],
   "source": [
    "students = {'1':\"Adam\", '2':\"Amit\", '3':\"Jerry\"}\n",
    "students"
   ]
  },
  {
   "cell_type": "code",
   "execution_count": null,
   "id": "afcceffe-086b-433b-b807-84fda5d8efe0",
   "metadata": {},
   "outputs": [],
   "source": [
    "students.keys()"
   ]
  },
  {
   "cell_type": "code",
   "execution_count": null,
   "id": "bd09f1fd-ed23-4986-b8b7-138c17d1bdbb",
   "metadata": {},
   "outputs": [],
   "source": [
    "students.values()"
   ]
  },
  {
   "cell_type": "code",
   "execution_count": null,
   "id": "1469ccc0-f035-404f-b68d-cb9515aff268",
   "metadata": {},
   "outputs": [],
   "source": [
    "students['2']=\"Anup\"\n",
    "students"
   ]
  },
  {
   "cell_type": "code",
   "execution_count": null,
   "id": "855e5b37-ea1b-48c5-82d2-cc0250cc03d2",
   "metadata": {},
   "outputs": [],
   "source": []
  }
 ],
 "metadata": {
  "kernelspec": {
   "display_name": "Python 3 (ipykernel)",
   "language": "python",
   "name": "python3"
  },
  "language_info": {
   "codemirror_mode": {
    "name": "ipython",
    "version": 3
   },
   "file_extension": ".py",
   "mimetype": "text/x-python",
   "name": "python",
   "nbconvert_exporter": "python",
   "pygments_lexer": "ipython3",
   "version": "3.11.4"
  }
 },
 "nbformat": 4,
 "nbformat_minor": 5
}
