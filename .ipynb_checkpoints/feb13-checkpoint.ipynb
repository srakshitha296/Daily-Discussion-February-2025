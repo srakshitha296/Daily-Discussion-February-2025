{
 "cells": [
  {
   "cell_type": "markdown",
   "id": "8c754a83-9edf-4efa-8144-3723ba66d8ce",
   "metadata": {},
   "source": [
    "#### 1. Write a function to reverse a string"
   ]
  },
  {
   "cell_type": "code",
   "execution_count": 1,
   "id": "e3dd8d07-46a4-40c3-aaa8-4d2370d18ade",
   "metadata": {},
   "outputs": [
    {
     "data": {
      "text/plain": [
       "'dlrow olleH'"
      ]
     },
     "execution_count": 1,
     "metadata": {},
     "output_type": "execute_result"
    }
   ],
   "source": [
    "str=\"Hello world\"\n",
    "str[::-1]"
   ]
  },
  {
   "cell_type": "code",
   "execution_count": 2,
   "id": "05b8d421-00d5-4428-b215-f6d142af8293",
   "metadata": {},
   "outputs": [],
   "source": [
    "def reverse(str):\n",
    "    print(str[::-1])"
   ]
  },
  {
   "cell_type": "code",
   "execution_count": 3,
   "id": "8c55e84d-8c25-4e8a-a6d2-d7e7372d07c1",
   "metadata": {},
   "outputs": [
    {
     "name": "stdout",
     "output_type": "stream",
     "text": [
      "dlrow olleH\n"
     ]
    }
   ],
   "source": [
    "reverse(str)"
   ]
  },
  {
   "cell_type": "markdown",
   "id": "eeae336b-e00b-431a-bcb7-2191e3196b1b",
   "metadata": {},
   "source": [
    "#### 2. Count the frequency of each character in a string"
   ]
  },
  {
   "cell_type": "code",
   "execution_count": 4,
   "id": "0fd56041-7db3-4f9d-8224-5313f24b71d0",
   "metadata": {},
   "outputs": [
    {
     "name": "stdout",
     "output_type": "stream",
     "text": [
      "{'a': 2, 'b': 3, 'z': 1, 'c': 2}\n"
     ]
    }
   ],
   "source": [
    "str = \"aabbzbcc\"\n",
    "def countchar(str):\n",
    "    dict = {}\n",
    "    for i in str:\n",
    "        dict[i] = dict.get(i,0)+1\n",
    "    return dict\n",
    "print(countchar(str))"
   ]
  },
  {
   "cell_type": "markdown",
   "id": "9a0f904a-4583-41d5-a735-d0ca40bc3463",
   "metadata": {},
   "source": [
    "#### 3. Replace all occurrences of a word in a string with another word without using the .replace() method."
   ]
  },
  {
   "cell_type": "code",
   "execution_count": 5,
   "id": "423a74be-50e1-4c62-8386-8441e9ad3318",
   "metadata": {},
   "outputs": [
    {
     "name": "stdout",
     "output_type": "stream",
     "text": [
      "afternoon good morning\n"
     ]
    }
   ],
   "source": [
    "str = \"hello good morning\"\n",
    "sl = list(str.split())\n",
    "def replacing(str,old,new):\n",
    "    for i,j in enumerate(sl):\n",
    "        if j == old:\n",
    "            sl[i]=new\n",
    "    result = ' '.join(sl)\n",
    "    return result\n",
    "    \n",
    "print(replacing(str,'hello', 'afternoon'))"
   ]
  },
  {
   "cell_type": "markdown",
   "id": "f460112c-85ba-4f1b-9c4d-7e245493f331",
   "metadata": {},
   "source": [
    "#### 4. Write a program to compress a string (e.g., \"aaabb\" → \"a3b2\")"
   ]
  },
  {
   "cell_type": "code",
   "execution_count": 6,
   "id": "f08554ef-3065-4cfa-b848-f99ab26e5061",
   "metadata": {},
   "outputs": [
    {
     "name": "stdout",
     "output_type": "stream",
     "text": [
      "b2a3"
     ]
    }
   ],
   "source": [
    "word=\"aaabb\"\n",
    "a = set(word)\n",
    "for i in a:\n",
    "    print(f'{i}{word.count(i)}',end=\"\") "
   ]
  },
  {
   "cell_type": "markdown",
   "id": "52fbb56e-ad32-4879-bf42-a7f9ac2f5f9b",
   "metadata": {},
   "source": [
    "### Extra questions"
   ]
  },
  {
   "cell_type": "code",
   "execution_count": 7,
   "id": "c77a0485-8c36-4c6c-a0e7-e80267376dd4",
   "metadata": {},
   "outputs": [
    {
     "name": "stdout",
     "output_type": "stream",
     "text": [
      "{'a': 1, 'b': 2, 'c': 3, 'd': 4}\n"
     ]
    }
   ],
   "source": [
    "# 1.Converting tuple of tuple into a dictionary\n",
    "tup = (('a',1),('b',2),('c',3),('d',4))\n",
    "dict = {}\n",
    "for ele in tup:\n",
    "    for i in range(1):\n",
    "        dict[ele[i]] = ele[i+1]\n",
    "print(dict)\n"
   ]
  },
  {
   "cell_type": "code",
   "execution_count": 12,
   "id": "6284e1b4-423d-4488-809a-5c80c69b9278",
   "metadata": {},
   "outputs": [
    {
     "name": "stdout",
     "output_type": "stream",
     "text": [
      "[1, 2, 3, 4]\n"
     ]
    }
   ],
   "source": [
    "# 2.Removing repeated element from list without using set\n",
    "l = [1,1,2,3,4,4]\n",
    "d = {}\n",
    "res=[]\n",
    "for ele in l:\n",
    "    d[ele]=d.get(ele,0)+1\n",
    "for i in d:\n",
    "    d[i]=1\n",
    "for ele in d:\n",
    "    res.append(ele)\n",
    "print(res)"
   ]
  }
 ],
 "metadata": {
  "kernelspec": {
   "display_name": "Python 3 (ipykernel)",
   "language": "python",
   "name": "python3"
  },
  "language_info": {
   "codemirror_mode": {
    "name": "ipython",
    "version": 3
   },
   "file_extension": ".py",
   "mimetype": "text/x-python",
   "name": "python",
   "nbconvert_exporter": "python",
   "pygments_lexer": "ipython3",
   "version": "3.11.4"
  }
 },
 "nbformat": 4,
 "nbformat_minor": 5
}
