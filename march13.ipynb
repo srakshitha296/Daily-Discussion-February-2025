{
 "cells": [
  {
   "cell_type": "markdown",
   "id": "ba5e88c5-86f2-4c0b-b27d-7eb81abd2b7d",
   "metadata": {},
   "source": [
    "Write a program to find the missing number in an arithmetic progression.  Below are some examples of arithmetic progression: \n",
    "1) 10, 20, 30, 40, 50\n",
    "2) -5, -4, -3, -1"
   ]
  },
  {
   "cell_type": "code",
   "execution_count": 31,
   "id": "e2d032aa-2c58-4d2a-a9e6-e72d9494ca93",
   "metadata": {},
   "outputs": [
    {
     "data": {
      "text/plain": [
       "-4"
      ]
     },
     "execution_count": 31,
     "metadata": {},
     "output_type": "execute_result"
    }
   ],
   "source": [
    "a = [-5, -3, -2, -1]\n",
    "def arithmetic_exp(a):\n",
    "    for i in range(len(a)-1,-1,-1):\n",
    "        if a[i]-a[i-1]==a[i-1]-a[i-2]:\n",
    "            diff = a[i]-a[i-1]\n",
    "            break\n",
    "    for i in range(0,len(a)):\n",
    "        if a[i] != a[0]+(i*diff):\n",
    "            return a[0]+(i*diff)\n",
    "    print(\"NO missing value\")\n",
    "    \n",
    "arithmetic_exp(a)"
   ]
  },
  {
   "cell_type": "markdown",
   "id": "be060643-2815-4155-8fbd-97b98d1709f6",
   "metadata": {},
   "source": [
    "Write a program find the sum of digits of a number using recursion"
   ]
  },
  {
   "cell_type": "code",
   "execution_count": 35,
   "id": "c893f145-d7a4-48cb-92d0-d9aaaa3a5768",
   "metadata": {},
   "outputs": [
    {
     "data": {
      "text/plain": [
       "15"
      ]
     },
     "execution_count": 35,
     "metadata": {},
     "output_type": "execute_result"
    }
   ],
   "source": [
    "def sum_dig(num):\n",
    "    if len(str(num))==1:\n",
    "        return num\n",
    "    return num%10 + sum_dig(num//10)\n",
    "sum_dig(258)"
   ]
  },
  {
   "cell_type": "markdown",
   "id": "0e660e34-3a65-471f-9a89-a1d21e5cc380",
   "metadata": {},
   "source": [
    "Write a program to sort words of a sentence based on chronological order.  \n",
    "\tExample: Input = \"hello this is an example with cased letters\"\n",
    "\tOutput = \"an cased example hello is letters this with\""
   ]
  },
  {
   "cell_type": "code",
   "execution_count": 43,
   "id": "efaa17a7-30c9-4477-851e-31cf7538f3d6",
   "metadata": {},
   "outputs": [
    {
     "data": {
      "text/plain": [
       "['an', 'cased', 'example', 'hello', 'is', 'letters', 'this', 'with']"
      ]
     },
     "execution_count": 43,
     "metadata": {},
     "output_type": "execute_result"
    }
   ],
   "source": [
    "Input = \"hello this is an example with cased letters\" \n",
    "Output = \"an cased example hello is letters this with\"\n",
    "def sorting(Input):\n",
    "    return sorted(Input.split())\n",
    "sorting(Input)"
   ]
  },
  {
   "cell_type": "markdown",
   "id": "ecbdb213-1bd2-42b4-b1ea-66b9f8c68b70",
   "metadata": {},
   "source": [
    "You are given an integer n (1 <= n <= 15) representing the number of steps to reach the top of a staircase. You can climb with either 1 or 2 steps at a time.\n",
    "Return the number of distinct ways to climb to the top of the staircase.\n",
    "Example #1:\n",
    "Input: n = 2\n",
    "Output: 2\t\n",
    "Explanation: 1 + 1 = 2 , 2 = 2\n",
    " \n",
    "Example #2:\n",
    "Input: n = 3\n",
    "Output: 3\t\n",
    "Explanation: 1 + 1 + 1 = 3, 1 + 2 = 3, 2 + 1 = 3"
   ]
  },
  {
   "cell_type": "code",
   "execution_count": null,
   "id": "10f09fff-fca6-4b80-903c-f985af847c12",
   "metadata": {},
   "outputs": [],
   "source": []
  },
  {
   "cell_type": "markdown",
   "id": "12a38e76-0b30-4e17-91b5-a9bf459bf53c",
   "metadata": {},
   "source": [
    "Find the difference between the largest and smallest numbers in a list."
   ]
  },
  {
   "cell_type": "code",
   "execution_count": 46,
   "id": "ce98cfb5-48be-4ef4-9ae5-8b6df6c0afa2",
   "metadata": {},
   "outputs": [
    {
     "name": "stdout",
     "output_type": "stream",
     "text": [
      "7\n"
     ]
    }
   ],
   "source": [
    "l=[2,3,7,4,5,9]\n",
    "print(max(l)-min(l))"
   ]
  }
 ],
 "metadata": {
  "kernelspec": {
   "display_name": "Python 3 (ipykernel)",
   "language": "python",
   "name": "python3"
  },
  "language_info": {
   "codemirror_mode": {
    "name": "ipython",
    "version": 3
   },
   "file_extension": ".py",
   "mimetype": "text/x-python",
   "name": "python",
   "nbconvert_exporter": "python",
   "pygments_lexer": "ipython3",
   "version": "3.11.4"
  }
 },
 "nbformat": 4,
 "nbformat_minor": 5
}
