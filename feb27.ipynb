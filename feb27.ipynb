{
 "cells": [
  {
   "cell_type": "markdown",
   "id": "7536797e-6589-4dec-9882-af5eed7c421a",
   "metadata": {},
   "source": [
    "### 1. CONVERT ROMAN NUMBER TO INTEGER"
   ]
  },
  {
   "cell_type": "code",
   "execution_count": 9,
   "id": "38233cc1-084f-4f5b-8ff0-ed17f6054a04",
   "metadata": {},
   "outputs": [
    {
     "name": "stdout",
     "output_type": "stream",
     "text": [
      "Roman : V\n"
     ]
    },
    {
     "name": "stdout",
     "output_type": "stream",
     "text": [
      "5\n"
     ]
    }
   ],
   "source": [
    "d={'I':1, 'V':5, 'X': 10, 'L':50}\n",
    "l\n",
    "roman = input(\"Roman :\")\n",
    "number = 0\n",
    "prev = 0\n",
    "index = -1\n",
    "for ele in reversed(roman):\n",
    "    cur = d[ele] \n",
    "    if cur < prev:\n",
    "        number -= cur\n",
    "    else:\n",
    "        number+=cur\n",
    "    prev = cur\n",
    "print(number)"
   ]
  },
  {
   "cell_type": "markdown",
   "id": "77571a65-9cc6-40d3-8a04-497711d21d93",
   "metadata": {},
   "source": [
    "### 2. Implement a function to generate all subsets of a set."
   ]
  },
  {
   "cell_type": "code",
   "execution_count": 4,
   "id": "d85cb509-f9d9-4aa2-92c1-f36f956e7ed8",
   "metadata": {},
   "outputs": [
    {
     "name": "stdout",
     "output_type": "stream",
     "text": [
      "[[1], [1, 2], [1, 2, 3], [1, 2, 3, 4], [2], [2, 3], [2, 3, 4], [3], [3, 4], [4]]\n"
     ]
    }
   ],
   "source": [
    "a = {1,2,3,4}\n",
    "s = list(a)\n",
    "def sub_string(s):\n",
    "    sub = []\n",
    "    for i in range(len(s)):\n",
    "        for j in range(i, len(s)):\n",
    "            #print(i,j)\n",
    "            sub.append(s[i:j+1])\n",
    "    return sub\n",
    "print(sub_string(s))"
   ]
  },
  {
   "cell_type": "markdown",
   "id": "a9056ace-b296-4909-acf9-592cdf78831f",
   "metadata": {},
   "source": [
    "### 3. Implement a function to generate all permutations of an array."
   ]
  },
  {
   "cell_type": "code",
   "execution_count": 1,
   "id": "d0ceb243-b384-4f82-a59c-09a2c4778371",
   "metadata": {},
   "outputs": [
    {
     "name": "stdout",
     "output_type": "stream",
     "text": [
      "[(1, 2, 3), (1, 3, 2), (2, 1, 3), (2, 3, 1), (3, 1, 2), (3, 2, 1)]\n"
     ]
    }
   ],
   "source": [
    "from itertools import permutations\n",
    "l = list(permutations(range(1, 4)))\n",
    "print(l)"
   ]
  },
  {
   "cell_type": "code",
   "execution_count": 3,
   "id": "390ae0eb-91e4-4ea8-abcf-5b5e40dc8465",
   "metadata": {},
   "outputs": [
    {
     "name": "stdout",
     "output_type": "stream",
     "text": [
      "[1, 2, 3]\n",
      "[2, 1, 3]\n",
      "[3, 1, 2]\n",
      "[1, 3, 2]\n",
      "[2, 3, 1]\n",
      "[3, 2, 1]\n"
     ]
    }
   ],
   "source": [
    "# Python program to print all permutations using\n",
    "# Heap's algorithm\n",
    "def heapPermutation(a, size):\n",
    "\tif size == 1:\n",
    "\t\tprint(a)\n",
    "\t\treturn\n",
    "\n",
    "\tfor i in range(size):\n",
    "\t\theapPermutation(a, size-1)\n",
    "\t\tif size%2 != 0:\n",
    "\t\t\ta[0], a[size-1] = a[size-1], a[0]\n",
    "\t\telse:\n",
    "\t\t\ta[i], a[size-1] = a[size-1], a[i]\n",
    "\n",
    "a = [1, 2, 3]\n",
    "n = len(a)\n",
    "heapPermutation(a, n)\n"
   ]
  },
  {
   "cell_type": "code",
   "execution_count": null,
   "id": "40419cf6-81d1-49f6-ab4d-1fbcbd928a57",
   "metadata": {},
   "outputs": [],
   "source": []
  }
 ],
 "metadata": {
  "kernelspec": {
   "display_name": "Python 3",
   "language": "python",
   "name": "python3"
  },
  "language_info": {
   "codemirror_mode": {
    "name": "ipython",
    "version": 3
   },
   "file_extension": ".py",
   "mimetype": "text/x-python",
   "name": "python",
   "nbconvert_exporter": "python",
   "pygments_lexer": "ipython3",
   "version": "3.11.4"
  }
 },
 "nbformat": 4,
 "nbformat_minor": 5
}
